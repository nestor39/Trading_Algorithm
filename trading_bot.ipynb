{
 "cells": [
  {
   "cell_type": "code",
   "execution_count": 22,
   "metadata": {},
   "outputs": [],
   "source": [
    "# Importing Packages \n",
    "import yfinance as yf\n",
    "from yahoofinancials import YahooFinancials\n",
    "import os\n",
    "import pandas as pd\n",
    "import json\n",
    "import requests\n",
    "import numpy as np\n",
    "import pandas_ta as ta\n",
    "import talib"
   ]
  },
  {
   "cell_type": "code",
   "execution_count": 23,
   "metadata": {},
   "outputs": [
    {
     "name": "stdout",
     "output_type": "stream",
     "text": [
      "[*********************100%***********************]  1 of 1 completed\n",
      "[*********************100%***********************]  1 of 1 completed\n",
      "[*********************100%***********************]  1 of 1 completed\n"
     ]
    },
    {
     "data": {
      "text/html": [
       "<div>\n",
       "<style scoped>\n",
       "    .dataframe tbody tr th:only-of-type {\n",
       "        vertical-align: middle;\n",
       "    }\n",
       "\n",
       "    .dataframe tbody tr th {\n",
       "        vertical-align: top;\n",
       "    }\n",
       "\n",
       "    .dataframe thead th {\n",
       "        text-align: right;\n",
       "    }\n",
       "</style>\n",
       "<table border=\"1\" class=\"dataframe\">\n",
       "  <thead>\n",
       "    <tr style=\"text-align: right;\">\n",
       "      <th></th>\n",
       "      <th>Open</th>\n",
       "      <th>High</th>\n",
       "      <th>Low</th>\n",
       "      <th>Close</th>\n",
       "      <th>Adj Close</th>\n",
       "      <th>Volume</th>\n",
       "    </tr>\n",
       "    <tr>\n",
       "      <th>Date</th>\n",
       "      <th></th>\n",
       "      <th></th>\n",
       "      <th></th>\n",
       "      <th></th>\n",
       "      <th></th>\n",
       "      <th></th>\n",
       "    </tr>\n",
       "  </thead>\n",
       "  <tbody>\n",
       "    <tr>\n",
       "      <th>2006-09-14</th>\n",
       "      <td>1.877687</td>\n",
       "      <td>1.891217</td>\n",
       "      <td>1.875997</td>\n",
       "      <td>1.885903</td>\n",
       "      <td>1.885903</td>\n",
       "      <td>0</td>\n",
       "    </tr>\n",
       "    <tr>\n",
       "      <th>2006-09-15</th>\n",
       "      <td>1.885796</td>\n",
       "      <td>1.888396</td>\n",
       "      <td>1.875891</td>\n",
       "      <td>1.877899</td>\n",
       "      <td>1.877899</td>\n",
       "      <td>0</td>\n",
       "    </tr>\n",
       "    <tr>\n",
       "      <th>2006-09-18</th>\n",
       "      <td>1.878217</td>\n",
       "      <td>1.883984</td>\n",
       "      <td>1.874309</td>\n",
       "      <td>1.881184</td>\n",
       "      <td>1.881184</td>\n",
       "      <td>0</td>\n",
       "    </tr>\n",
       "    <tr>\n",
       "      <th>2006-09-19</th>\n",
       "      <td>1.881184</td>\n",
       "      <td>1.888360</td>\n",
       "      <td>1.878005</td>\n",
       "      <td>1.881786</td>\n",
       "      <td>1.881786</td>\n",
       "      <td>0</td>\n",
       "    </tr>\n",
       "    <tr>\n",
       "      <th>2006-09-20</th>\n",
       "      <td>1.881751</td>\n",
       "      <td>1.892613</td>\n",
       "      <td>1.880901</td>\n",
       "      <td>1.887291</td>\n",
       "      <td>1.887291</td>\n",
       "      <td>0</td>\n",
       "    </tr>\n",
       "    <tr>\n",
       "      <th>...</th>\n",
       "      <td>...</td>\n",
       "      <td>...</td>\n",
       "      <td>...</td>\n",
       "      <td>...</td>\n",
       "      <td>...</td>\n",
       "      <td>...</td>\n",
       "    </tr>\n",
       "    <tr>\n",
       "      <th>2021-05-24</th>\n",
       "      <td>1.414027</td>\n",
       "      <td>1.417133</td>\n",
       "      <td>1.411851</td>\n",
       "      <td>1.414287</td>\n",
       "      <td>1.414287</td>\n",
       "      <td>0</td>\n",
       "    </tr>\n",
       "    <tr>\n",
       "      <th>2021-05-25</th>\n",
       "      <td>1.415689</td>\n",
       "      <td>1.421040</td>\n",
       "      <td>1.411771</td>\n",
       "      <td>1.415609</td>\n",
       "      <td>1.415609</td>\n",
       "      <td>0</td>\n",
       "    </tr>\n",
       "    <tr>\n",
       "      <th>2021-05-26</th>\n",
       "      <td>1.414327</td>\n",
       "      <td>1.417635</td>\n",
       "      <td>1.411931</td>\n",
       "      <td>1.414387</td>\n",
       "      <td>1.414387</td>\n",
       "      <td>0</td>\n",
       "    </tr>\n",
       "    <tr>\n",
       "      <th>2021-05-27</th>\n",
       "      <td>1.411313</td>\n",
       "      <td>1.419487</td>\n",
       "      <td>1.409225</td>\n",
       "      <td>1.411612</td>\n",
       "      <td>1.411612</td>\n",
       "      <td>0</td>\n",
       "    </tr>\n",
       "    <tr>\n",
       "      <th>2021-05-28</th>\n",
       "      <td>1.420354</td>\n",
       "      <td>1.420656</td>\n",
       "      <td>1.413707</td>\n",
       "      <td>1.420374</td>\n",
       "      <td>1.420374</td>\n",
       "      <td>0</td>\n",
       "    </tr>\n",
       "  </tbody>\n",
       "</table>\n",
       "<p>3802 rows × 6 columns</p>\n",
       "</div>"
      ],
      "text/plain": [
       "                Open      High       Low     Close  Adj Close  Volume\n",
       "Date                                                                 \n",
       "2006-09-14  1.877687  1.891217  1.875997  1.885903   1.885903       0\n",
       "2006-09-15  1.885796  1.888396  1.875891  1.877899   1.877899       0\n",
       "2006-09-18  1.878217  1.883984  1.874309  1.881184   1.881184       0\n",
       "2006-09-19  1.881184  1.888360  1.878005  1.881786   1.881786       0\n",
       "2006-09-20  1.881751  1.892613  1.880901  1.887291   1.887291       0\n",
       "...              ...       ...       ...       ...        ...     ...\n",
       "2021-05-24  1.414027  1.417133  1.411851  1.414287   1.414287       0\n",
       "2021-05-25  1.415689  1.421040  1.411771  1.415609   1.415609       0\n",
       "2021-05-26  1.414327  1.417635  1.411931  1.414387   1.414387       0\n",
       "2021-05-27  1.411313  1.419487  1.409225  1.411612   1.411612       0\n",
       "2021-05-28  1.420354  1.420656  1.413707  1.420374   1.420374       0\n",
       "\n",
       "[3802 rows x 6 columns]"
      ]
     },
     "execution_count": 23,
     "metadata": {},
     "output_type": "execute_result"
    }
   ],
   "source": [
    "# Downloading the data from yahoo finance\n",
    "EURUSD_df = yf.download(\"EURUSD=X\", start = '2006-9-14', end = '2021-5-30', group_by = \"ticker\")\n",
    "USDJPY_df = yf.download(\" USDJPY=X\", start = '2006-9-14', end = '2021-5-30', group_by = \"ticker\")\n",
    "GBPUSD_df = yf.download(\"GBPUSD=X\", start = '2006-9-14', end = '2021-5-30')\n",
    "GBPUSD_df"
   ]
  },
  {
   "cell_type": "code",
   "execution_count": 24,
   "metadata": {},
   "outputs": [],
   "source": [
    "# Calling RSI and STOCHASTIC indicator from pandas_ta for USDJPY_df\n",
    "EURUSD_df['RSI'] = EURUSD_df.ta.rsi().dropna()"
   ]
  },
  {
   "cell_type": "code",
   "execution_count": 25,
   "metadata": {},
   "outputs": [],
   "source": [
    "# Calling RSI and STOCHASTIC indicator from pandas_ta for USDJPY_df\n",
    "USDJPY_df['RSI'] = USDJPY_df.ta.rsi().dropna()\n",
    "#USDJPY_df['STOCHk_14_3_3','STOCHd_14_3_3'] = USDJPY_df.ta.stoch()"
   ]
  },
  {
   "cell_type": "code",
   "execution_count": 26,
   "metadata": {},
   "outputs": [],
   "source": [
    "# Calling RSI and STOCHASTIC indicator from pandas_ta for USDJPY_df\n",
    "GBPUSD_df['RSI'] = GBPUSD_df.ta.rsi().dropna()"
   ]
  },
  {
   "cell_type": "code",
   "execution_count": 27,
   "metadata": {},
   "outputs": [],
   "source": [
    "# Reversal patterns of the hammer and the shooting star for EURUSD\n",
    "\n",
    "\n",
    "shooting_star_eurusd = talib.CDLSHOOTINGSTAR(EURUSD_df['Open'],EURUSD_df['High'],EURUSD_df['Low'] , EURUSD_df['Close'])\n",
    "hammer_pattern_eurusd = talib.CDLHAMMER(EURUSD_df['Open'],EURUSD_df['High'],EURUSD_df['Low'] , EURUSD_df['Close'])\n"
   ]
  },
  {
   "cell_type": "markdown",
   "metadata": {},
   "source": [
    "Identify the trading signals "
   ]
  },
  {
   "cell_type": "code",
   "execution_count": 28,
   "metadata": {},
   "outputs": [
    {
     "name": "stdout",
     "output_type": "stream",
     "text": [
      "                Open      High       Low     Close  Adj Close  Volume  \\\n",
      "Date                                                                    \n",
      "2008-09-03  1.451800  1.453172  1.438870  1.448604   1.448604       0   \n",
      "2010-02-05  1.374476  1.374608  1.358806  1.368008   1.368008       0   \n",
      "2010-05-17  1.237226  1.241064  1.224605  1.239296   1.239296       0   \n",
      "2012-05-30  1.247816  1.248595  1.239157  1.247816   1.247816       0   \n",
      "2015-03-11  1.070939  1.071455  1.056140  1.070870   1.070870       0   \n",
      "\n",
      "                  RSI  Signal  \n",
      "Date                           \n",
      "2008-09-03  21.962197       2  \n",
      "2010-02-05  24.174746       2  \n",
      "2010-05-17  24.965234       2  \n",
      "2012-05-30  25.893842       2  \n",
      "2015-03-11  19.980131       2  \n"
     ]
    }
   ],
   "source": [
    "# Generate the trading signal 0, 1, or 2\n",
    "# Where 2 is when RSI is greater than 70 and shooting star shows up, 1 is when RSI is lesser than 30 and \n",
    "#hammer shows up and 0 when the condition is not met \n",
    "conditions = [(EURUSD_df['RSI'] >=  70) &  (shooting_star_eurusd  != 0), (EURUSD_df['RSI'] <=  30) &  (hammer_pattern_eurusd != 0)]\n",
    "values = [1,2]\n",
    "\n",
    "EURUSD_df[\"Signal\"] = np.select(conditions, values)\n",
    "print(EURUSD_df[EURUSD_df['Signal'] == 2])"
   ]
  },
  {
   "cell_type": "code",
   "execution_count": 29,
   "metadata": {},
   "outputs": [
    {
     "ename": "SyntaxError",
     "evalue": "invalid character in identifier (<ipython-input-29-62aee7f5b959>, line 2)",
     "output_type": "error",
     "traceback": [
      "\u001b[1;36m  File \u001b[1;32m\"<ipython-input-29-62aee7f5b959>\"\u001b[1;36m, line \u001b[1;32m2\u001b[0m\n\u001b[1;33m    EURUSD_df[“trade_type”] = np.nan\u001b[0m\n\u001b[1;37m                         ^\u001b[0m\n\u001b[1;31mSyntaxError\u001b[0m\u001b[1;31m:\u001b[0m invalid character in identifier\n"
     ]
    }
   ],
   "source": [
    "# Add the trade_type column to track buys and sells\n",
    "EURUSD_df[“trade_type”] = np.nan\n",
    "GBPUSD_df[“trade_type”] = np.nan\n",
    "USDJPY_df[“trade_type”] = np.nan"
   ]
  },
  {
   "cell_type": "code",
   "execution_count": null,
   "metadata": {},
   "outputs": [],
   "source": []
  }
 ],
 "metadata": {
  "kernelspec": {
   "display_name": "python (dev)",
   "language": "python",
   "name": "dev"
  },
  "language_info": {
   "codemirror_mode": {
    "name": "ipython",
    "version": 3
   },
   "file_extension": ".py",
   "mimetype": "text/x-python",
   "name": "python",
   "nbconvert_exporter": "python",
   "pygments_lexer": "ipython3",
   "version": "3.7.9"
  }
 },
 "nbformat": 4,
 "nbformat_minor": 4
}
